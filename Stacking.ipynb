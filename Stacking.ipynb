{
 "cells": [
  {
   "cell_type": "code",
   "execution_count": 168,
   "metadata": {
    "collapsed": false
   },
   "outputs": [
    {
     "name": "stdout",
     "output_type": "stream",
     "text": [
      "Train set:  features 20 samples 750\n",
      "Test  set:  features 20 samples 250\n"
     ]
    }
   ],
   "source": [
    "%matplotlib inline\n",
    "from sklearn import datasets\n",
    "from sklearn.model_selection import train_test_split, KFold, cross_val_predict\n",
    "from sklearn.tree import DecisionTreeClassifier\n",
    "from sklearn.linear_model import LogisticRegression\n",
    "from sklearn.neighbors import KNeighborsClassifier\n",
    "from sklearn.naive_bayes import GaussianNB \n",
    "from sklearn.ensemble import RandomForestClassifier, ExtraTreesClassifier\n",
    "from sklearn.ensemble import GradientBoostingClassifier\n",
    "from sklearn.metrics import accuracy_score, recall_score, precision_score\n",
    "import matplotlib.pyplot as plt\n",
    "import numpy as np\n",
    "\n",
    "\"\"\"\n",
    "Preparing data\n",
    "\"\"\"\n",
    "\n",
    "X, y = datasets.make_classification(n_samples=1000,n_features = 20, n_classes = 2, n_informative = 3)\n",
    "\n",
    "# add noise\n",
    "noise = 0.2\n",
    "X += X + noise * (X.max() - X.min()/2) * np.random.randn(X.shape[0],X.shape[1])\n",
    "\n",
    "X_train, X_test, y_train, y_test = train_test_split(X, y, test_size = 0.25)\n",
    "\n",
    "print('Train set:  features',X_train.shape[1],'samples',X_train.shape[0])\n",
    "print('Test  set:  features',X_test.shape[1],'samples',X_test.shape[0])"
   ]
  },
  {
   "cell_type": "code",
   "execution_count": null,
   "metadata": {
    "collapsed": false
   },
   "outputs": [],
   "source": []
  },
  {
   "cell_type": "code",
   "execution_count": 156,
   "metadata": {
    "collapsed": false
   },
   "outputs": [],
   "source": [
    "class BlendingClassifier:\n",
    "\n",
    "    \"\"\"\n",
    "    Hold-out stacking\n",
    "    clfs - list of base classifiers\n",
    "    meta  - model of meta classifier\n",
    "    test_ratio - training / test split ratio\n",
    "    join_feat - join basic and meta features in train dataset if True \n",
    "    \"\"\"\n",
    "    \n",
    "    def __init__(self, clfs, meta, test_ratio = 0.25, join_feat = False):\n",
    "\n",
    "        self.clfs = clfs\n",
    "        self.meta = meta\n",
    "        self.test_ratio = test_ratio\n",
    "        self.join_feat = join_feat\n",
    "        \n",
    "    def fit(self, X, y):\n",
    "\n",
    "        X_train, X_test, y_train, y_test = train_test_split(X, y, test_size = self.test_ratio)\n",
    "        X_meta  = np.zeros((X_test.shape[0], len(self.clfs)))\n",
    "            \n",
    "        for j, clf in enumerate(self.clfs):\n",
    "            clf.fit(X_train, y_train)\n",
    "            X_meta[:,j] = clf.predict(X_test)\n",
    "            \n",
    "        if self.join_feat:\n",
    "            X_meta = np.hstack((X_test,X_meta))\n",
    "\n",
    "        self.meta.fit(X_meta,y_test)\n",
    "        \n",
    "    def predict(self, X):\n",
    "        \n",
    "        X_meta = np.zeros((X.shape[0], len(self.clfs)))\n",
    "        for j, clf in enumerate(self.clfs):\n",
    "            X_meta[:,j] = clf.predict(X)\n",
    "            \n",
    "        if self.join_feat:\n",
    "            X_meta = np.hstack((X,X_meta))\n",
    "            \n",
    "        p = self.meta.predict(X_meta)\n",
    "        \n",
    "        return p\n",
    "        "
   ]
  },
  {
   "cell_type": "code",
   "execution_count": 157,
   "metadata": {
    "collapsed": true
   },
   "outputs": [],
   "source": [
    "class StackingClassifier:\n",
    "\n",
    "    \"\"\"\n",
    "    Out-of-fold stacking\n",
    "    clfs - list of base classifiers\n",
    "    meta  - model of meta classifier\n",
    "    n_folds - number of folds\n",
    "    join_feat - join basic and meta features in train dataset if True \n",
    "    \"\"\"\n",
    "    \n",
    "    def __init__(self, clfs, meta, n_folds = 4, join_feat = False):\n",
    "\n",
    "        self.clfs = clfs\n",
    "        self.meta = meta\n",
    "        self.n_folds = n_folds\n",
    "        self.join_feat = join_feat\n",
    "        \n",
    "    def fit(self, X, y):\n",
    "\n",
    "        X_meta  = np.zeros((X.shape[0], len(self.clfs)))\n",
    "              \n",
    "        for j, clf in enumerate(self.clfs):\n",
    "            \n",
    "            clf.fit(X,y)\n",
    "            X_meta[:,j] = cross_val_predict(clf, X, y, cv=self.n_folds, n_jobs=-1)\n",
    "          \n",
    "        if self.join_feat:\n",
    "            X_meta = np.hstack((X,X_meta))\n",
    "\n",
    "        self.meta.fit(X_meta,y)\n",
    "        \n",
    "    def predict(self, X):\n",
    "        \n",
    "        X_meta = np.zeros((X.shape[0], len(self.clfs)))\n",
    "        for j, clf in enumerate(self.clfs):\n",
    "            X_meta[:,j] = clf.predict(X)\n",
    "            \n",
    "        if self.join_feat:\n",
    "            X_meta = np.hstack((X,X_meta))\n",
    "            \n",
    "        p = self.meta.predict(X_meta)\n",
    "        \n",
    "        return p"
   ]
  },
  {
   "cell_type": "code",
   "execution_count": 169,
   "metadata": {
    "collapsed": false
   },
   "outputs": [
    {
     "name": "stdout",
     "output_type": "stream",
     "text": [
      "Blending\n",
      " 0 kNN: 0.772 \n",
      " 1 LR : 0.768 \n",
      " 2 DT : 0.728 \n",
      " 3 NB : 0.740 \n"
     ]
    }
   ],
   "source": [
    "# Base algorithms\n",
    "clfs = [KNeighborsClassifier(),\n",
    "        LogisticRegression(),\n",
    "        DecisionTreeClassifier(),\n",
    "        GaussianNB(),\n",
    "        RandomForestClassifier(),\n",
    "        ExtraTreesClassifier(),\n",
    "        GradientBoostingClassifier()]\n",
    "\n",
    "clfs_labels = ['kNN','LR ','DT ','NB ','RF ','ET ','GB ']\n",
    "\n",
    "# Meta models\n",
    "metas = [KNeighborsClassifier(),\n",
    "         LogisticRegression(),\n",
    "         DecisionTreeClassifier(),\n",
    "         GaussianNB()]\n",
    "\n",
    "metas_labels = ['kNN','LR ','DT ','NB ']\n",
    "\n",
    "print('Blending')\n",
    "a = np.zeros((len(metas),3))\n",
    "# Train blending algorithms with different meta models\n",
    "for j, meta in enumerate(metas):\n",
    "    bc = BlendingClassifier(clfs,meta)\n",
    "    bc.fit(X_train,y_train)\n",
    "    p = bc.predict(X_test)\n",
    "    a[j,0] = accuracy_score(y_test, p)\n",
    "    a[j,1] = precision_score(y_test, p, average = 'micro')\n",
    "    a[j,2] = recall_score(y_test, p, average = 'micro')\n",
    "    print(\"%2d %s: %0.3f \" % (j, metas_labels[j], a[j,0]))"
   ]
  },
  {
   "cell_type": "code",
   "execution_count": 179,
   "metadata": {
    "collapsed": false
   },
   "outputs": [
    {
     "name": "stdout",
     "output_type": "stream",
     "text": [
      "Stacking\n",
      " 0 kNN: 0.740 \n",
      " 1 LR : 0.724 \n",
      " 2 DT : 0.784 \n",
      " 3 NB : 0.744 \n"
     ]
    }
   ],
   "source": [
    "print('Stacking')\n",
    "c = np.zeros((len(metas),3))\n",
    "# Train blending algorithms with different meta models\n",
    "for j, meta in enumerate(metas):\n",
    "    sc = StackingClassifier(clfs,meta)\n",
    "    sc.fit(X_train,y_train)\n",
    "    p = sc.predict(X_test)\n",
    "    c[j,0] = accuracy_score(y_test, p)\n",
    "    c[j,1] = precision_score(y_test, p, average = 'micro')\n",
    "    c[j,2] = recall_score(y_test, p, average = 'micro')\n",
    "    print(\"%2d %s: %0.3f \" % (j, metas_labels[j], c[j,0]))"
   ]
  },
  {
   "cell_type": "code",
   "execution_count": 180,
   "metadata": {
    "collapsed": false
   },
   "outputs": [
    {
     "name": "stdout",
     "output_type": "stream",
     "text": [
      " 0 kNN: 0.680 \n",
      " 1 LR : 0.652 \n",
      " 2 DT : 0.696 \n",
      " 3 NB : 0.676 \n",
      " 4 RF : 0.688 \n",
      " 5 ET : 0.708 \n",
      " 6 GB : 0.764 \n"
     ]
    }
   ],
   "source": [
    "# Evaluate basic classifiers including other ensemble methods\n",
    "\n",
    "b = np.zeros((len(clfs),3))\n",
    "\n",
    "for j, clf in enumerate(clfs):\n",
    "    p = clf.fit(X_train,y_train).predict(X_test)\n",
    "    b[j,0] = accuracy_score(y_test, p)\n",
    "    b[j,1] = precision_score(y_test, p, average = 'micro')\n",
    "    b[j,2] = recall_score(y_test, p, average = 'micro')\n",
    "    print(\"%2d %s: %0.3f \" % (j, clfs_labels[j], b[j,0]))"
   ]
  },
  {
   "cell_type": "code",
   "execution_count": 181,
   "metadata": {
    "collapsed": false
   },
   "outputs": [
    {
     "data": {
      "text/plain": [
       "<matplotlib.legend.Legend at 0x118666080>"
      ]
     },
     "execution_count": 181,
     "metadata": {},
     "output_type": "execute_result"
    },
    {
     "data": {
      "image/png": "[encoded data removed]",
      "text/plain": [
       "<matplotlib.figure.Figure at 0x1183db710>"
      ]
     },
     "metadata": {},
     "output_type": "display_data"
    }
   ],
   "source": [
    "ymin = min(a[:,0].min(),b[:,0].min(),c[:,0].min())\n",
    "ymax = max(a[:,0].max(),b[:,0].max(),c[:,0].max())\n",
    "\n",
    "plt.figure(figsize=(10, 7))\n",
    "plt.bar(np.arange(len(b)),b[:,0], label='base algorithms')\n",
    "plt.bar(np.arange(7,7+len(a)),a[:,0], label = 'blending')\n",
    "plt.bar(np.arange(11,11+len(c)),c[:,0], label = 'stacking')\n",
    "plt.ylim([ymin.round(2)-0.01, ymax.round(2)+0.01])\n",
    "plt.axhline(y=b[:,0].max(), color='r')\n",
    "plt.ylabel('Accuracy')\n",
    "plt.xticks(np.arange(7+len(a)+len(c)), clfs_labels + metas_labels + metas_labels)\n",
    "plt.legend(loc=4)\n"
   ]
  },
  {
   "cell_type": "code",
   "execution_count": 222,
   "metadata": {
    "collapsed": false
   },
   "outputs": [
    {
     "data": {
      "text/plain": [
       "<matplotlib.legend.Legend at 0x11affed30>"
      ]
     },
     "execution_count": 222,
     "metadata": {},
     "output_type": "execute_result"
    },
    {
     "data": {
      "image/png": "[encoded data removed]",
      "text/plain": [
       "<matplotlib.figure.Figure at 0x11ab92d68>"
      ]
     },
     "metadata": {},
     "output_type": "display_data"
    }
   ],
   "source": [
    "# How accuracy of Blending Classifier depends on train / test ratio?\n",
    "r1 = []\n",
    "for k in range (1,10):\n",
    "    sc = BlendingClassifier(clfs,LogisticRegression(),test_ratio = k/10)\n",
    "    sc.fit(X_train,y_train)\n",
    "    p = sc.predict(X_test)\n",
    "    r1.append(accuracy_score(y_test, p))\n",
    "plt.plot(r1, label = 'blending classifier')\n",
    "plt.axhline(y=b[:,0].max(), color='r', label = 'best base algorithm')\n",
    "plt.ylabel('Accuracy')\n",
    "plt.xlabel('Test / train ratio')\n",
    "plt.xticks(np.arange(len(r1)), np.linspace(0.1,0.9,9))\n",
    "plt.legend(loc=4)"
   ]
  },
  {
   "cell_type": "code",
   "execution_count": 214,
   "metadata": {
    "collapsed": false
   },
   "outputs": [
    {
     "data": {
      "text/plain": [
       "<matplotlib.legend.Legend at 0x11a5a1b70>"
      ]
     },
     "execution_count": 214,
     "metadata": {},
     "output_type": "execute_result"
    },
    {
     "data": {
      "image/png": "[encoded data removed]",
      "text/plain": [
       "<matplotlib.figure.Figure at 0x1196eb710>"
      ]
     },
     "metadata": {},
     "output_type": "display_data"
    }
   ],
   "source": [
    "# How accuracy of Stacking Classifier depends on number of folds?\n",
    "r2 = []\n",
    "for n_folds in range (2,11):\n",
    "    sc = StackingClassifier(clfs,DecisionTreeClassifier(),n_folds = n_folds)\n",
    "    sc.fit(X_train,y_train)\n",
    "    p = sc.predict(X_test)\n",
    "    r2.append(accuracy_score(y_test, p))\n",
    "plt.plot(r2, label = 'stacking classifier')\n",
    "plt.axhline(y=b[:,0].max(), color='r', label = 'best base algorithm')\n",
    "plt.ylabel('Accuracy')\n",
    "plt.xlabel('Number of folds')\n",
    "plt.xticks(np.arange(len(r2)), range(2,11))\n",
    "plt.legend(loc=4)"
   ]
  },
  {
   "cell_type": "code",
   "execution_count": null,
   "metadata": {
    "collapsed": true
   },
   "outputs": [],
   "source": []
  },
  {
   "cell_type": "code",
   "execution_count": null,
   "metadata": {
    "collapsed": false
   },
   "outputs": [],
   "source": []
  },
  {
   "cell_type": "code",
   "execution_count": null,
   "metadata": {
    "collapsed": true
   },
   "outputs": [],
   "source": []
  }
 ],
 "metadata": {
  "kernelspec": {
   "display_name": "Python 3",
   "language": "python",
   "name": "python3"
  },
  "language_info": {
   "codemirror_mode": {
    "name": "ipython",
    "version": 3
   },
   "file_extension": ".py",
   "mimetype": "text/x-python",
   "name": "python",
   "nbconvert_exporter": "python",
   "pygments_lexer": "ipython3",
   "version": "3.6.0"
  }
 },
 "nbformat": 4,
 "nbformat_minor": 2
}
